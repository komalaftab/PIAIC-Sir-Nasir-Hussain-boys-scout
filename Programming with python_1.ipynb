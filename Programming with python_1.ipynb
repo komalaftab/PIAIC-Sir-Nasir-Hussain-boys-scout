{
 "cells": [
  {
   "cell_type": "markdown",
   "metadata": {},
   "source": [
    "# Print_function"
   ]
  },
  {
   "cell_type": "markdown",
   "metadata": {},
   "source": [
    " Which type of data i can give  to print() function?\n",
    " \n",
    " •\tInteger data like 123.\n",
    " \n",
    "•\tFloating data like 45.6\n",
    "\n",
    "\n",
    "•\tText data or string data like “hello,World”.\n",
    "\n"
   ]
  },
  {
   "cell_type": "code",
   "execution_count": 1,
   "metadata": {},
   "outputs": [
    {
     "name": "stdout",
     "output_type": "stream",
     "text": [
      "hello\n"
     ]
    }
   ],
   "source": [
    "print(\"hello\")"
   ]
  },
  {
   "cell_type": "code",
   "execution_count": 2,
   "metadata": {},
   "outputs": [
    {
     "name": "stdout",
     "output_type": "stream",
     "text": [
      "hello world\n"
     ]
    }
   ],
   "source": [
    "print(\"hello world\")\n",
    "# when you write data in quotation mark is called a text string or string."
   ]
  },
  {
   "cell_type": "code",
   "execution_count": 3,
   "metadata": {},
   "outputs": [
    {
     "name": "stdout",
     "output_type": "stream",
     "text": [
      "123\n"
     ]
    }
   ],
   "source": [
    "print(123) # integer data"
   ]
  },
  {
   "cell_type": "code",
   "execution_count": 4,
   "metadata": {},
   "outputs": [
    {
     "name": "stdout",
     "output_type": "stream",
     "text": [
      "67.5\n"
     ]
    }
   ],
   "source": [
    "print(67.5) #floating data"
   ]
  },
  {
   "cell_type": "code",
   "execution_count": 5,
   "metadata": {},
   "outputs": [
    {
     "name": "stdout",
     "output_type": "stream",
     "text": [
      "hello$$what's up\n"
     ]
    }
   ],
   "source": [
    "print(\"hello\",\"what's up\",sep =\"$$\")\n",
    "# sep :string inserted between values, default a space."
   ]
  },
  {
   "cell_type": "code",
   "execution_count": 6,
   "metadata": {},
   "outputs": [
    {
     "name": "stdout",
     "output_type": "stream",
     "text": [
      "hello world1\n",
      "hello world2\n",
      "hello world3\n"
     ]
    }
   ],
   "source": [
    "print(\"hello world1\")\n",
    "print(\"hello world2\")\n",
    "print(\"hello world3\")\n"
   ]
  },
  {
   "cell_type": "code",
   "execution_count": 7,
   "metadata": {},
   "outputs": [
    {
     "name": "stdout",
     "output_type": "stream",
     "text": [
      "hello world1hello world2hello world3\n"
     ]
    }
   ],
   "source": [
    "print(\"hello world1\",end =\"\")\n",
    "print(\"hello world2\",end =\"\")\n",
    "print(\"hello world3\")\n",
    " #end:   string appended after the last value, default a newline.\n"
   ]
  },
  {
   "cell_type": "code",
   "execution_count": 8,
   "metadata": {},
   "outputs": [
    {
     "name": "stdout",
     "output_type": "stream",
     "text": [
      "hello world1\thello world2\thello world3\n"
     ]
    }
   ],
   "source": [
    "print(\"hello world1\",end =\"\\t\") # escape character like \\t for tabspace and \\n for new line\n",
    "print(\"hello world2\",end =\"\\t\")\n",
    "print(\"hello world3\")"
   ]
  },
  {
   "attachments": {
    "image.png": {
     "image/png": "[encoded data removed]"
    }
   },
   "cell_type": "markdown",
   "metadata": {},
   "source": [
    "![image.png](attachment:image.png)"
   ]
  },
  {
   "cell_type": "code",
   "execution_count": 9,
   "metadata": {},
   "outputs": [
    {
     "name": "stdout",
     "output_type": "stream",
     "text": [
      "hello world\r",
      "hello world\n"
     ]
    }
   ],
   "source": [
    "print(\"hello world\",end = \"\\r\")\n",
    "print(\"hello world\")"
   ]
  },
  {
   "cell_type": "markdown",
   "metadata": {},
   "source": [
    "# Variable:"
   ]
  },
  {
   "cell_type": "code",
   "execution_count": 10,
   "metadata": {},
   "outputs": [
    {
     "name": "stdout",
     "output_type": "stream",
     "text": [
      "5\n"
     ]
    }
   ],
   "source": [
    "a =5 # a is type of int.\n",
    "# a is variable name(identifier).\n",
    "# = is assignment operator.\n",
    "print(a)\n"
   ]
  },
  {
   "cell_type": "markdown",
   "metadata": {},
   "source": [
    "String data can be declared either by using double and single quotes.for example"
   ]
  },
  {
   "cell_type": "code",
   "execution_count": 11,
   "metadata": {},
   "outputs": [
    {
     "name": "stdout",
     "output_type": "stream",
     "text": [
      "Tom jerry\n"
     ]
    }
   ],
   "source": [
    "b =\"Tom\"\n",
    "# b is type of string.\n",
    "c ='jerry'\n",
    "print(b,c)\n"
   ]
  },
  {
   "cell_type": "markdown",
   "metadata": {},
   "source": [
    "# Assign Value to Multiple Variables:"
   ]
  },
  {
   "cell_type": "markdown",
   "metadata": {},
   "source": [
    "Python allows you to assign values to multiple variable in one line."
   ]
  },
  {
   "cell_type": "code",
   "execution_count": 12,
   "metadata": {},
   "outputs": [
    {
     "name": "stdout",
     "output_type": "stream",
     "text": [
      "mango\n",
      "apple\n",
      "orange\n"
     ]
    }
   ],
   "source": [
    "d,e,f =\"mango\",\"apple\",\"orange\"\n",
    "print(d)\n",
    "print(e)\n",
    "print(f)"
   ]
  },
  {
   "cell_type": "code",
   "execution_count": 13,
   "metadata": {},
   "outputs": [],
   "source": [
    "#help()\n"
   ]
  },
  {
   "cell_type": "markdown",
   "metadata": {},
   "source": [
    "# String method"
   ]
  },
  {
   "cell_type": "code",
   "execution_count": 14,
   "metadata": {},
   "outputs": [
    {
     "name": "stdout",
     "output_type": "stream",
     "text": [
      "Tom Sam\n",
      "TOM SAM\n",
      "tom sam\n"
     ]
    }
   ],
   "source": [
    "name =\"tom sam\"\n",
    "print(name.title())\n",
    "print(name.upper())\n",
    "print(name.lower())"
   ]
  },
  {
   "cell_type": "markdown",
   "metadata": {},
   "source": [
    "# combining or concatenating"
   ]
  },
  {
   "cell_type": "code",
   "execution_count": 16,
   "metadata": {},
   "outputs": [
    {
     "name": "stdout",
     "output_type": "stream",
     "text": [
      "Sam and Tom are good friends.\n"
     ]
    }
   ],
   "source": [
    "first_name = \"Sam\"\n",
    "second_name = \"Tom\"\n",
    "print(first_name + \" and \" +second_name +\" are good friends.\")"
   ]
  },
  {
   "cell_type": "markdown",
   "metadata": {},
   "source": [
    "# Adding Whitespace to Strings with Tabs or Newlines:"
   ]
  },
  {
   "cell_type": "code",
   "execution_count": 17,
   "metadata": {},
   "outputs": [
    {
     "name": "stdout",
     "output_type": "stream",
     "text": [
      "Python\n",
      "\tpython\n"
     ]
    }
   ],
   "source": [
    "print(\"Python\")\n",
    "print(\"\\tpython\") #\\t is used for tab space.\n"
   ]
  },
  {
   "cell_type": "code",
   "execution_count": 18,
   "metadata": {},
   "outputs": [
    {
     "name": "stdout",
     "output_type": "stream",
     "text": [
      "language:\n",
      "python\n",
      "java\n",
      "C++\n"
     ]
    }
   ],
   "source": [
    "print(\"language:\\npython\\njava\\nC++\")\n",
    "#To add a newline in a string, use the character combination \\n."
   ]
  },
  {
   "cell_type": "markdown",
   "metadata": {},
   "source": [
    "# Stripping Whitespace:\n",
    "Extra whitespace can be confusing in your programs.\n",
    "\n",
    "You can also strip whitespace from the left side of a string using the\n",
    "lstrip() method or strip whitespace from both sides at once using strip() and strip whitspace from the right side using the rstrip()."
   ]
  },
  {
   "cell_type": "code",
   "execution_count": 19,
   "metadata": {},
   "outputs": [
    {
     "name": "stdout",
     "output_type": "stream",
     "text": [
      "   python\n",
      "python  \n",
      "python\n"
     ]
    }
   ],
   "source": [
    "fav_lang =\"   python  \"\n",
    "print(fav_lang.rstrip())\n",
    "print(fav_lang.lstrip())\n",
    "print(fav_lang.strip())"
   ]
  },
  {
   "attachments": {},
   "cell_type": "markdown",
   "metadata": {},
   "source": [
    "# Python String Formatting\n"
   ]
  },
  {
   "cell_type": "code",
   "execution_count": 21,
   "metadata": {},
   "outputs": [
    {
     "name": "stdout",
     "output_type": "stream",
     "text": [
      "The price of this book is 578 dollar.\n"
     ]
    }
   ],
   "source": [
    "#Add a placeholder where you want to display the price.\n",
    "price = 578\n",
    "text =\"The price of this book is {} dollar.\"\n",
    "print(text.format(price))"
   ]
  },
  {
   "cell_type": "code",
   "execution_count": 27,
   "metadata": {},
   "outputs": [
    {
     "name": "stdout",
     "output_type": "stream",
     "text": [
      "For only 96.00 dollars!\n"
     ]
    }
   ],
   "source": [
    "#Format the price to be displayed as a number with two decimals.\n",
    "text = \"For only {price:.2f} dollars!\"\n",
    "print(text.format(price = 96))\n",
    "\n"
   ]
  },
  {
   "cell_type": "code",
   "execution_count": 35,
   "metadata": {},
   "outputs": [
    {
     "name": "stdout",
     "output_type": "stream",
     "text": [
      "My name is tom, I'am 24\n",
      "My name is tom, I'am 24\n",
      "My name is tom, I'am 24\n"
     ]
    }
   ],
   "source": [
    "#Using different placeholder values:\n",
    "print(\"My name is {fname}, I'am {age}\".format(fname = \"tom\", age = 24))\n",
    "print(\"My name is {1}, I'am {0}\".format(24,\"tom\"))\n",
    "print(\"My name is {}, I'am {}\".format(\"tom\",24))\n"
   ]
  },
  {
   "cell_type": "markdown",
   "metadata": {},
   "source": [
    "# Comments in Python"
   ]
  },
  {
   "cell_type": "code",
   "execution_count": 36,
   "metadata": {},
   "outputs": [],
   "source": [
    "# THIS IS A COMMENT."
   ]
  },
  {
   "cell_type": "markdown",
   "metadata": {},
   "source": [
    "Multiple line comment:"
   ]
  },
  {
   "cell_type": "code",
   "execution_count": 37,
   "metadata": {},
   "outputs": [],
   "source": [
    "# this is a \n",
    "#ne comment"
   ]
  }
 ],
 "metadata": {
  "kernelspec": {
   "display_name": "Python 3",
   "language": "python",
   "name": "python3"
  },
  "language_info": {
   "codemirror_mode": {
    "name": "ipython",
    "version": 3
   },
   "file_extension": ".py",
   "mimetype": "text/x-python",
   "name": "python",
   "nbconvert_exporter": "python",
   "pygments_lexer": "ipython3",
   "version": "3.7.3"
  }
 },
 "nbformat": 4,
 "nbformat_minor": 2
}
