{
 "cells": [
  {
   "cell_type": "markdown",
   "metadata": {},
   "source": [
    "## Python JSON"
   ]
  },
  {
   "cell_type": "markdown",
   "metadata": {},
   "source": [
    "##### JSON is a syntax for storing and exchanging data.JSON  is text,written with Javascript\n"
   ]
  },
  {
   "cell_type": "markdown",
   "metadata": {},
   "source": [
    "Python has a built in package called json,which can be used to work with JSON data."
   ]
  },
  {
   "cell_type": "code",
   "execution_count": 1,
   "metadata": {},
   "outputs": [],
   "source": [
    "import json"
   ]
  },
  {
   "cell_type": "markdown",
   "metadata": {},
   "source": [
    "  ## Convert from JSON to python::"
   ]
  },
  {
   "cell_type": "code",
   "execution_count": 7,
   "metadata": {},
   "outputs": [
    {
     "name": "stdout",
     "output_type": "stream",
     "text": [
      "21\n"
     ]
    }
   ],
   "source": [
    "# some json\n",
    "import json\n",
    "x ='{\"name\":\"komal\",\"age\":21,\"city\":\"karachi\"}'\n",
    "# parse x:\n",
    "y =json.loads(x)\n",
    "print(y[\"age\"])"
   ]
  },
  {
   "cell_type": "markdown",
   "metadata": {},
   "source": [
    "### Convert from python to json"
   ]
  },
  {
   "cell_type": "code",
   "execution_count": 6,
   "metadata": {},
   "outputs": [
    {
     "name": "stdout",
     "output_type": "stream",
     "text": [
      "{\"name\": \"komal\", \"age\": 21, \"city\": \"karachi\"}\n"
     ]
    }
   ],
   "source": [
    "x = {\"name\":\"komal\",\"age\":21,\"city\": \"karachi\"}\n",
    "# convert into json\n",
    "y =json.dumps(x)\n",
    "print(y)"
   ]
  },
  {
   "cell_type": "code",
   "execution_count": 9,
   "metadata": {},
   "outputs": [],
   "source": [
    "f = open(\"x.json\",\"w\")\n",
    "f.write(x)\n",
    "f.close()"
   ]
  },
  {
   "cell_type": "markdown",
   "metadata": {},
   "source": [
    "### Convert a Python object containing all the legal data types::"
   ]
  },
  {
   "cell_type": "code",
   "execution_count": 10,
   "metadata": {},
   "outputs": [],
   "source": [
    "import json\n",
    "x ={\"name\":\"john\",\"age\":30,\"married\":True,\"divorced\":False,\"pets\":None,\"cars\":[{\"model\":\"BMW 230\",\"mpg\":27.5},{\"model\":\"ford edge\",\"mpg\":24.1}]}"
   ]
  },
  {
   "cell_type": "code",
   "execution_count": 15,
   "metadata": {},
   "outputs": [
    {
     "name": "stdout",
     "output_type": "stream",
     "text": [
      "{\n",
      "   \"name\": \"john\",\n",
      "   \"age\": 30,\n",
      "   \"married\": true,\n",
      "   \"divorced\": false,\n",
      "   \"pets\": null,\n",
      "   \"cars\": [\n",
      "      {\n",
      "         \"model\": \"BMW 230\",\n",
      "         \"mpg\": 27.5\n",
      "      },\n",
      "      {\n",
      "         \"model\": \"ford edge\",\n",
      "         \"mpg\": 24.1\n",
      "      }\n",
      "   ]\n",
      "}\n"
     ]
    }
   ],
   "source": [
    "print(json.dumps(x,indent=3))"
   ]
  },
  {
   "cell_type": "code",
   "execution_count": 18,
   "metadata": {},
   "outputs": [
    {
     "name": "stdout",
     "output_type": "stream",
     "text": [
      "{\n",
      "   \"name\" = \"john\".\n",
      "   \"age\" = 30.\n",
      "   \"married\" = true.\n",
      "   \"divorced\" = false.\n",
      "   \"pets\" = null.\n",
      "   \"cars\" = [\n",
      "      {\n",
      "         \"model\" = \"BMW 230\".\n",
      "         \"mpg\" = 27.5\n",
      "      }.\n",
      "      {\n",
      "         \"model\" = \"ford edge\".\n",
      "         \"mpg\" = 24.1\n",
      "      }\n",
      "   ]\n",
      "}\n"
     ]
    }
   ],
   "source": [
    "print(json.dumps(x,indent=3,separators =(\".\",\" = \")))"
   ]
  },
  {
   "cell_type": "code",
   "execution_count": 20,
   "metadata": {},
   "outputs": [
    {
     "name": "stdout",
     "output_type": "stream",
     "text": [
      "{\n",
      "   \"age\": 30,\n",
      "   \"cars\": [\n",
      "      {\n",
      "         \"model\": \"BMW 230\",\n",
      "         \"mpg\": 27.5\n",
      "      },\n",
      "      {\n",
      "         \"model\": \"ford edge\",\n",
      "         \"mpg\": 24.1\n",
      "      }\n",
      "   ],\n",
      "   \"divorced\": false,\n",
      "   \"married\": true,\n",
      "   \"name\": \"john\",\n",
      "   \"pets\": null\n",
      "}\n"
     ]
    }
   ],
   "source": [
    "print(json.dumps(x,indent=3,sort_keys=True))"
   ]
  }
 ],
 "metadata": {
  "kernelspec": {
   "display_name": "Python 3",
   "language": "python",
   "name": "python3"
  },
  "language_info": {
   "codemirror_mode": {
    "name": "ipython",
    "version": 3
   },
   "file_extension": ".py",
   "mimetype": "text/x-python",
   "name": "python",
   "nbconvert_exporter": "python",
   "pygments_lexer": "ipython3",
   "version": "3.7.3"
  }
 },
 "nbformat": 4,
 "nbformat_minor": 2
}
